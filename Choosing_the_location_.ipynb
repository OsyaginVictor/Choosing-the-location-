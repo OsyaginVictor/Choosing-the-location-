{
  "cells": [
    {
      "cell_type": "markdown",
      "metadata": {
        "id": "view-in-github",
        "colab_type": "text"
      },
      "source": [
        "<a href=\"https://colab.research.google.com/github/OsyaginVictor/Choosing-the-location-/blob/main/Choosing_the_location_.ipynb\" target=\"_parent\"><img src=\"https://colab.research.google.com/assets/colab-badge.svg\" alt=\"Open In Colab\"/></a>"
      ]
    },
    {
      "cell_type": "markdown",
      "metadata": {
        "id": "JYcA1aPvT85e"
      },
      "source": [
        "# Выбор локации для скважины"
      ]
    },
    {
      "cell_type": "markdown",
      "metadata": {
        "id": "KJOcDLcbT85f"
      },
      "source": [
        "Допустим, вы работаете в добывающей компании «ГлавРосГосНефть». Нужно решить, где бурить новую скважину.\n",
        "\n",
        "Вам предоставлены пробы нефти в трёх регионах: в каждом 10 000 месторождений, где измерили качество нефти и объём её запасов. Постройте модель машинного обучения, которая поможет определить регион, где добыча принесёт наибольшую прибыль. Проанализируйте возможную прибыль и риски техникой *Bootstrap.*\n",
        "\n",
        "Шаги для выбора локации:\n",
        "\n",
        "- В избранном регионе ищут месторождения, для каждого определяют значения признаков;\n",
        "- Строят модель и оценивают объём запасов;\n",
        "- Выбирают месторождения с самым высокими оценками значений. Количество месторождений зависит от бюджета компании и стоимости разработки одной скважины;\n",
        "- Прибыль равна суммарной прибыли отобранных месторождений."
      ]
    },
    {
      "cell_type": "markdown",
      "metadata": {
        "id": "dBSfE0HsT85f"
      },
      "source": [
        "## Загрузка и подготовка данных"
      ]
    },
    {
      "cell_type": "code",
      "execution_count": null,
      "metadata": {
        "id": "mjNoqTIXT85f"
      },
      "outputs": [],
      "source": [
        "#импортируем необходимые библиотеки и инструменты\n",
        "import pandas as pd\n",
        "import numpy as np\n",
        "import seaborn as sns\n",
        "from scipy import stats as st\n",
        "from sklearn.metrics import mean_squared_error, accuracy_score\n",
        "from sklearn.model_selection import train_test_split\n",
        "from sklearn.linear_model import LinearRegression"
      ]
    },
    {
      "cell_type": "code",
      "execution_count": null,
      "metadata": {
        "id": "j8DXqyKvT85g"
      },
      "outputs": [],
      "source": [
        "#загрузим данные о трех регионах\n",
        "oil_well_1 = pd.read_csv('/datasets/geo_data_0.csv')\n",
        "oil_well_2 = pd.read_csv('/datasets/geo_data_1.csv')\n",
        "oil_well_3 = pd.read_csv('/datasets/geo_data_2.csv')"
      ]
    },
    {
      "cell_type": "markdown",
      "metadata": {
        "id": "-IYQFisCT85g"
      },
      "source": [
        "Ознакомимся с данными и выявим взаимосвязь между признаками."
      ]
    },
    {
      "cell_type": "code",
      "execution_count": null,
      "metadata": {
        "id": "6hJgHk0ZT85g",
        "outputId": "5c2d2c32-6057-479d-cd3b-5af73e63eff9"
      },
      "outputs": [
        {
          "name": "stdout",
          "output_type": "stream",
          "text": [
            "(100000, 5)\n",
            "\n",
            "      id        f0        f1        f2     product\n",
            "0  txEyH  0.705745 -0.497823  1.221170  105.280062\n",
            "1  2acmU  1.334711 -0.340164  4.365080   73.037750\n",
            "2  409Wp  1.022732  0.151990  1.419926   85.265647\n",
            "3  iJLyR -0.032172  0.139033  2.978566  168.620776\n",
            "4  Xdl7t  1.988431  0.155413  4.751769  154.036647\n",
            "\n"
          ]
        },
        {
          "data": {
            "image/png": "[encoded data removed]",
            "text/plain": [
              "<Figure size 432x288 with 2 Axes>"
            ]
          },
          "metadata": {
            "needs_background": "light"
          },
          "output_type": "display_data"
        }
      ],
      "source": [
        "print(oil_well_1.shape)\n",
        "print()\n",
        "print(oil_well_1.head())\n",
        "print()\n",
        "sns.heatmap(oil_well_1.corr(), annot=True, square=True, center=0, fmt='.1g');"
      ]
    },
    {
      "cell_type": "code",
      "execution_count": null,
      "metadata": {
        "id": "bV5uP6wVT85g",
        "outputId": "e0898746-74e6-4f50-e23e-64389c941e82"
      },
      "outputs": [
        {
          "name": "stdout",
          "output_type": "stream",
          "text": [
            "(100000, 5)\n",
            "\n",
            "      id         f0         f1        f2     product\n",
            "0  kBEdx -15.001348  -8.276000 -0.005876    3.179103\n",
            "1  62mP7  14.272088  -3.475083  0.999183   26.953261\n",
            "2  vyE1P   6.263187  -5.948386  5.001160  134.766305\n",
            "3  KcrkZ -13.081196 -11.506057  4.999415  137.945408\n",
            "4  AHL4O  12.702195  -8.147433  5.004363  134.766305\n",
            "\n"
          ]
        },
        {
          "data": {
            "image/png": "[encoded data removed]",
            "text/plain": [
              "<Figure size 432x288 with 2 Axes>"
            ]
          },
          "metadata": {
            "needs_background": "light"
          },
          "output_type": "display_data"
        }
      ],
      "source": [
        "print(oil_well_2.shape)\n",
        "print()\n",
        "print(oil_well_2.head())\n",
        "print()\n",
        "sns.heatmap(oil_well_2.corr(), annot=True, square=True, center=0, fmt='.1g');"
      ]
    },
    {
      "cell_type": "code",
      "execution_count": null,
      "metadata": {
        "id": "lDPcpGYrT85g",
        "outputId": "d938e36c-52f4-4f09-a18c-e7264a3ceb23"
      },
      "outputs": [
        {
          "name": "stdout",
          "output_type": "stream",
          "text": [
            "(100000, 5)\n",
            "\n",
            "      id        f0        f1        f2     product\n",
            "0  fwXo0 -1.146987  0.963328 -0.828965   27.758673\n",
            "1  WJtFt  0.262778  0.269839 -2.530187   56.069697\n",
            "2  ovLUW  0.194587  0.289035 -5.586433   62.871910\n",
            "3  q6cA6  2.236060 -0.553760  0.930038  114.572842\n",
            "4  WPMUX -0.515993  1.716266  5.899011  149.600746\n",
            "\n"
          ]
        },
        {
          "data": {
            "image/png": "[encoded data removed]",
            "text/plain": [
              "<Figure size 432x288 with 2 Axes>"
            ]
          },
          "metadata": {
            "needs_background": "light"
          },
          "output_type": "display_data"
        }
      ],
      "source": [
        "print(oil_well_3.shape)\n",
        "print()\n",
        "print(oil_well_3.head())\n",
        "print()\n",
        "sns.heatmap(oil_well_3.corr(), annot=True, square=True, center=0, fmt='.1g');"
      ]
    },
    {
      "cell_type": "markdown",
      "metadata": {
        "id": "Y5mfxEd9T85g"
      },
      "source": [
        "Показатели корреляции регионов 1 и 3 похожи, сильной корреляции данных нет, больше всего зависит целевой признак product от признака f2. А в регионе 2 заметна неправдоподобная взаимосвязь этих двух признаков, единица. Это может быть связано с тем, что данные синтетические, в реальной жизни такой коэффициент корреляции сложно представить."
      ]
    },
    {
      "cell_type": "markdown",
      "metadata": {
        "id": "90MFKmtYT85g"
      },
      "source": [
        "Проверим данные на полные дубликаты."
      ]
    },
    {
      "cell_type": "code",
      "execution_count": null,
      "metadata": {
        "id": "TxSCrsicT85g",
        "outputId": "a3ec8d38-dcbc-42db-f584-0ed42f0e62f5"
      },
      "outputs": [
        {
          "name": "stdout",
          "output_type": "stream",
          "text": [
            "False    100000\n",
            "dtype: int64\n",
            "False    100000\n",
            "dtype: int64\n",
            "False    100000\n",
            "dtype: int64\n"
          ]
        }
      ],
      "source": [
        "print(oil_well_1.duplicated().value_counts())\n",
        "print(oil_well_2.duplicated().value_counts())\n",
        "print(oil_well_3.duplicated().value_counts())"
      ]
    },
    {
      "cell_type": "markdown",
      "metadata": {
        "id": "lTDsxMs9T85h"
      },
      "source": [
        "Дублирующихся данных нет - это хорошо, но стоит проверить, нет ли разных данных об одной и той же скважине."
      ]
    },
    {
      "cell_type": "code",
      "execution_count": null,
      "metadata": {
        "id": "-sHnqf4GT85h",
        "outputId": "c17d19a7-9bc8-44d8-972f-73b44ed15eb5"
      },
      "outputs": [
        {
          "name": "stdout",
          "output_type": "stream",
          "text": [
            "fiKDv    2\n",
            "74z30    2\n",
            "Tdehs    2\n",
            "bxg6G    2\n",
            "HZww2    2\n",
            "Name: id, dtype: int64\n",
            "5ltQ6    2\n",
            "bfPNe    2\n",
            "LHZR0    2\n",
            "wt4Uk    2\n",
            "7TMdL    1\n",
            "Name: id, dtype: int64\n",
            "VF7Jo    2\n",
            "KUPhW    2\n",
            "Vcm5J    2\n",
            "xCHr8    2\n",
            "OwFH1    1\n",
            "Name: id, dtype: int64\n"
          ]
        }
      ],
      "source": [
        "print(oil_well_1['id'].value_counts().head())\n",
        "print(oil_well_2['id'].value_counts().head())\n",
        "print(oil_well_3['id'].value_counts().head())"
      ]
    },
    {
      "cell_type": "code",
      "execution_count": null,
      "metadata": {
        "id": "X6NNVxNET85h",
        "outputId": "a2e9437b-81b0-44a2-8dfc-069abe3613fe"
      },
      "outputs": [
        {
          "name": "stdout",
          "output_type": "stream",
          "text": [
            "         id        f0        f1         f2     product\n",
            "931   HZww2  0.755284  0.368511   1.863211   30.681774\n",
            "7530  HZww2  1.061194 -0.373969  10.430210  158.828695\n",
            "\n",
            "          id        f0        f1        f2     product\n",
            "2721   bfPNe -9.494442 -5.463692  4.006042  110.992147\n",
            "82178  bfPNe -6.202799 -4.820045  2.995107   84.038886\n"
          ]
        }
      ],
      "source": [
        "print(oil_well_1.query('id == \"HZww2\"'))\n",
        "print()\n",
        "print(oil_well_2.query('id == \"bfPNe\"'))"
      ]
    },
    {
      "cell_type": "markdown",
      "metadata": {
        "id": "_zPB8wFXT85h"
      },
      "source": [
        "В датасетах есть сведения о скважинах с одинаковыми именами, но разными признаками. Таких дублирующихся скважин немного, но они подозрительны. Удалим их, оставив только уникальные. На качество модели удаление такого небольшого количества данных повлиять не должно."
      ]
    },
    {
      "cell_type": "code",
      "execution_count": null,
      "metadata": {
        "id": "o_ZdUd0IT85h"
      },
      "outputs": [],
      "source": [
        "#напишем функцию для удаления наблюдений с дублирующимися id, которая на вход будет принимать название датасета\n",
        "def remove_double (data):\n",
        "    names = data['id'].value_counts().reset_index()\n",
        "    unique_names = names.query('id == 1')['index'].to_list()\n",
        "    data.query('id in @unique_names', inplace=True)"
      ]
    },
    {
      "cell_type": "markdown",
      "metadata": {
        "id": "YNyotyBLT85h"
      },
      "source": [
        "\n",
        "Применим функцию ко всем трем датасетам и проверим, как изменилось их наполнение."
      ]
    },
    {
      "cell_type": "code",
      "execution_count": null,
      "metadata": {
        "id": "QMcvLe8WT85h",
        "outputId": "d597ed52-7399-4496-ccd3-62ad1e14da81"
      },
      "outputs": [
        {
          "name": "stdout",
          "output_type": "stream",
          "text": [
            "(99980, 5)\n",
            "(99992, 5)\n",
            "(99992, 5)\n"
          ]
        }
      ],
      "source": [
        "remove_double(oil_well_1)\n",
        "print(oil_well_1.shape)\n",
        "remove_double(oil_well_2)\n",
        "print(oil_well_2.shape)\n",
        "remove_double(oil_well_3)\n",
        "print(oil_well_3.shape)"
      ]
    },
    {
      "cell_type": "markdown",
      "metadata": {
        "id": "uzaiqIkKT85h"
      },
      "source": [
        "Вывод:\n",
        "\n",
        "импортировали все необходимые инструменты,\n",
        "загрузили датасеты и ознакомились с ними,\n",
        "выявили подозрительную особенность - во всех трех датасетах имеются наблюдения о скважинах с одинаковым именем, но разными значениями признаков,\n",
        "избавились от наблюдений с дублирующимися именами с помощью функции remove_double\n",
        "проверили коэффициент корреляции - показатели корреляции регионов 1 и 3 похожи, сильной корреляции данных нет, больше всего зависит целевой признак product от признака f2. В регионе 2 заметна неправдоподобная взаимосвязь этих двух признаков, почти единица. Это может быть связано с тем, что данные синтетические"
      ]
    },
    {
      "cell_type": "markdown",
      "metadata": {
        "id": "WZAKWUaNT85i"
      },
      "source": [
        "## Обучение и проверка модели"
      ]
    },
    {
      "cell_type": "code",
      "execution_count": null,
      "metadata": {
        "id": "9ag3JAGRT85i"
      },
      "outputs": [],
      "source": [
        "model = LinearRegression()"
      ]
    },
    {
      "cell_type": "markdown",
      "metadata": {
        "id": "0RW_ZMmDT85i"
      },
      "source": [
        "Напишем функцию get_predictions, которая разобьет данные на обучающую и валидационную выборки в соотношении 75:25, а затем обучит модель и сделает предсказания на валидационной выборке."
      ]
    },
    {
      "cell_type": "code",
      "execution_count": null,
      "metadata": {
        "id": "9YVs39_FT85i"
      },
      "outputs": [],
      "source": [
        "def get_predictions_target (data):\n",
        "    features = data.drop(['id', 'product'], axis = 1)\n",
        "    target = data['product']\n",
        "    features_train, features_valid, target_train, target_valid = train_test_split(features, target, test_size=.25, random_state=666)\n",
        "    model.fit(features_train, target_train)\n",
        "    return pd.Series(model.predict(features_valid)), target_valid"
      ]
    },
    {
      "cell_type": "markdown",
      "metadata": {
        "id": "AUHX0Q-AT85i"
      },
      "source": [
        "Сохраним предсказания и правильные ответы."
      ]
    },
    {
      "cell_type": "code",
      "execution_count": null,
      "metadata": {
        "id": "ysLlDaBST85i"
      },
      "outputs": [],
      "source": [
        "predicted_1, target_1 = get_predictions_target(oil_well_1)"
      ]
    },
    {
      "cell_type": "code",
      "execution_count": null,
      "metadata": {
        "id": "fiyCiz8cT85i"
      },
      "outputs": [],
      "source": [
        "predicted_2, target_2 = get_predictions_target(oil_well_2)"
      ]
    },
    {
      "cell_type": "code",
      "execution_count": null,
      "metadata": {
        "id": "LjMJNWHTT85i"
      },
      "outputs": [],
      "source": [
        "predicted_3, target_3 = get_predictions_target(oil_well_3)"
      ]
    },
    {
      "cell_type": "markdown",
      "metadata": {
        "id": "Oc2bgusHT85i"
      },
      "source": [
        "Посмотрим на средний запас предсказанного сырья для каждого региона и RMSE (корень от среднеквадратичной ошибки) модели. Тем самым мы проверим модели на адекватность."
      ]
    },
    {
      "cell_type": "code",
      "execution_count": null,
      "metadata": {
        "id": "9_nlQ-UsT85j"
      },
      "outputs": [],
      "source": [
        "def get_mean_product_and_rmse (answers, predictions):\n",
        "    mse = mean_squared_error(answers, predictions)\n",
        "    print('Средний запас сырья, тыс. баррелей:', predictions.mean())\n",
        "    print('RMSE:', mse ** 0.5)"
      ]
    },
    {
      "cell_type": "code",
      "execution_count": null,
      "metadata": {
        "id": "k7eMJfhiT85j",
        "outputId": "2f125230-48d8-4d8b-a77b-d2510d2f9321"
      },
      "outputs": [
        {
          "name": "stdout",
          "output_type": "stream",
          "text": [
            "Регион №1\n",
            "\n",
            "Средний запас сырья, тыс. баррелей: 92.51122396649593\n",
            "RMSE: 37.51264378666752\n"
          ]
        }
      ],
      "source": [
        "print('Регион №1')\n",
        "print()\n",
        "get_mean_product_and_rmse(target_1, predicted_1)"
      ]
    },
    {
      "cell_type": "code",
      "execution_count": null,
      "metadata": {
        "id": "L3NRRhBET85j",
        "outputId": "8340ba58-189c-47f3-81cf-69f82036512f"
      },
      "outputs": [
        {
          "name": "stdout",
          "output_type": "stream",
          "text": [
            "Регион №2\n",
            "\n",
            "Средний запас сырья, тыс. баррелей: 68.84582277575738\n",
            "RMSE: 0.889353331828901\n"
          ]
        }
      ],
      "source": [
        "print('Регион №2')\n",
        "print()\n",
        "get_mean_product_and_rmse(target_2, predicted_2)"
      ]
    },
    {
      "cell_type": "code",
      "execution_count": null,
      "metadata": {
        "id": "YTzYJngsT85j",
        "outputId": "43ac654c-744b-41c0-ce67-340e34b01813"
      },
      "outputs": [
        {
          "name": "stdout",
          "output_type": "stream",
          "text": [
            "Регион №3\n",
            "\n",
            "Средний запас сырья, тыс. баррелей: 95.1896200039048\n",
            "RMSE: 40.00784454122081\n"
          ]
        }
      ],
      "source": [
        "print('Регион №3')\n",
        "print()\n",
        "get_mean_product_and_rmse(target_3, predicted_3)"
      ]
    },
    {
      "cell_type": "markdown",
      "metadata": {
        "id": "xdoBuMBwT85j"
      },
      "source": [
        "Вывод:\n",
        "\n",
        "разбили данные на обучающую и валидационную выборки\n",
        "обучили модели и сделали предсказания, сохранили их и правильные ответы\n",
        "посчитали средний запас сырья для каждого региона по предсказаниям и RMSE\n",
        "качественнее всего модель отработала для региона №2, здесь метрика RMSE с самым маленьким значением - наверняка так влияет большой коэффициент корреляции между одним из признаков и целевым признаком\n",
        "средний предсказанный запас сырья больше всего у регионов 1 и 3, больше 90 тыс. бареллей. Здесь же значение RMSE получилось очень большим, почти половина этого числа"
      ]
    },
    {
      "cell_type": "markdown",
      "metadata": {
        "id": "pPwIq_u5T85j"
      },
      "source": [
        "## Подготовка к расчёту прибыли"
      ]
    },
    {
      "cell_type": "code",
      "execution_count": null,
      "metadata": {
        "id": "cZj65iEVT85j"
      },
      "outputs": [],
      "source": [
        "#бюджет на разработку скважин в одном регионе в рублях\n",
        "BUDGET = 10000000000\n",
        "\n",
        "#количество скважин для бурения\n",
        "OIL_WELLS_NUMBER = 200\n",
        "\n",
        "#бюджет на одну скважину\n",
        "BUDGET_FOR_ONE = BUDGET / OIL_WELLS_NUMBER\n",
        "\n",
        "#доход с одной единицы продукта в рублях\n",
        "REVENUE_RUB = 450000\n",
        "\n",
        "#максимальная доля убытков\n",
        "MAX_RISK = 0.025\n",
        "\n",
        "#рублей в млрд\n",
        "MLRD = 1000000000"
      ]
    },
    {
      "cell_type": "markdown",
      "metadata": {
        "id": "E4t7aX3XT85k"
      },
      "source": [
        "Чтобы проект был прибыльным, посчитаем минимальное среднее количество продукта в месторождениях региона, достаточное для разработки."
      ]
    },
    {
      "cell_type": "code",
      "execution_count": null,
      "metadata": {
        "id": "MZZ5v2gzT85k",
        "outputId": "0a380361-85c5-4b8a-d76d-bf32cd6402fb"
      },
      "outputs": [
        {
          "data": {
            "text/plain": [
              "111.11111111111111"
            ]
          },
          "execution_count": 21,
          "metadata": {},
          "output_type": "execute_result"
        }
      ],
      "source": [
        "BUDGET_FOR_ONE / REVENUE_RUB"
      ]
    },
    {
      "cell_type": "code",
      "execution_count": null,
      "metadata": {
        "id": "_bNgaUePT85k",
        "outputId": "e5742010-98e0-4b7a-cbe8-b3ea68a534c9"
      },
      "outputs": [
        {
          "name": "stdout",
          "output_type": "stream",
          "text": [
            "Средний истинный запас сырья в регионах, тыс. баррелей:\n",
            "\n",
            "Регион 1: 92.3858860901055\n",
            "Регион 2: 68.83866771152616\n",
            "Регион 3: 94.7475498366247\n"
          ]
        }
      ],
      "source": [
        "print(\"Средний истинный запас сырья в регионах, тыс. баррелей:\")\n",
        "print()\n",
        "print(\"Регион 1:\", target_1.mean())\n",
        "print(\"Регион 2:\", target_2.mean())\n",
        "print(\"Регион 3:\", target_3.mean())"
      ]
    },
    {
      "cell_type": "markdown",
      "metadata": {
        "id": "AwbwBrCrT85k"
      },
      "source": [
        "Грубо говоря, 111.2 единицы продукта в одной скважине - это минимальный объем сырья, при котором проект не станет убыточным. Если сравнивать со средним истинным объемом сырья, который мы посчитали в предыдущем шаге, то проект будет убыточным в любом регионе. Но мы будем исследовать только 500 скважин, из которых выберем 200 самых прибыльных.\n",
        "\n",
        "Напишем функцию рассчета прибыли по 200 скважинам каждого региона, из которых получается самый большой объем сырья."
      ]
    },
    {
      "cell_type": "code",
      "execution_count": null,
      "metadata": {
        "id": "5dKsFbYqT85l"
      },
      "outputs": [],
      "source": [
        "def revenue(target, probabilities):\n",
        "    target = pd.Series(target).reset_index(drop=True)\n",
        "    probabilities = pd.Series(probabilities).reset_index(drop=True)\n",
        "    probs_sorted = probabilities.sort_values(ascending=False)\n",
        "    selected = target[probs_sorted.index][:OIL_WELLS_NUMBER]\n",
        "    return ((REVENUE_RUB * selected.sum()) - BUDGET) / MLRD"
      ]
    },
    {
      "cell_type": "code",
      "execution_count": null,
      "metadata": {
        "id": "8Kqa9EGDT85l",
        "outputId": "46dc1e34-4475-4f9e-f7a8-839ccb7baa2c"
      },
      "outputs": [
        {
          "data": {
            "text/plain": [
              "3.1361591450086554"
            ]
          },
          "execution_count": 24,
          "metadata": {},
          "output_type": "execute_result"
        }
      ],
      "source": [
        "revenue(target_1, predicted_1)"
      ]
    },
    {
      "cell_type": "code",
      "execution_count": null,
      "metadata": {
        "id": "b3mPUovaT85l",
        "outputId": "491b9bec-d250-4c7e-b9d6-358cc2bba23b"
      },
      "outputs": [
        {
          "data": {
            "text/plain": [
              "2.4150866966815108"
            ]
          },
          "execution_count": 25,
          "metadata": {},
          "output_type": "execute_result"
        }
      ],
      "source": [
        "revenue(target_2, predicted_2)"
      ]
    },
    {
      "cell_type": "code",
      "execution_count": null,
      "metadata": {
        "id": "n2_cmkamT85l",
        "outputId": "1e7b43ab-493b-4f52-d9b0-4cf7dbe4adc9"
      },
      "outputs": [
        {
          "data": {
            "text/plain": [
              "2.1309791872583483"
            ]
          },
          "execution_count": 26,
          "metadata": {},
          "output_type": "execute_result"
        }
      ],
      "source": [
        "revenue(target_3, predicted_3)"
      ]
    },
    {
      "cell_type": "markdown",
      "metadata": {
        "id": "qH_fec8CT85l"
      },
      "source": [
        "На данном этапе, судя из рассчетов, самым прибыльным является регион 1 - выручка здесь больше 3-х млрд рублей."
      ]
    },
    {
      "cell_type": "markdown",
      "metadata": {
        "id": "fnEMBYwWT85l"
      },
      "source": [
        "## Расчёт прибыли и рисков"
      ]
    },
    {
      "cell_type": "markdown",
      "metadata": {
        "id": "HeGOgwYrT85l"
      },
      "source": [
        "Посчитаем риски и прибыль для всех трех регионов с помощью процедуры Bootstrap."
      ]
    },
    {
      "cell_type": "code",
      "execution_count": null,
      "metadata": {
        "id": "BNB2KDonT85l"
      },
      "outputs": [],
      "source": [
        "state = np.random.RandomState(666)"
      ]
    },
    {
      "cell_type": "code",
      "execution_count": null,
      "metadata": {
        "id": "DUsvEYazT85m"
      },
      "outputs": [],
      "source": [
        "def bootstrap (target, predictions):\n",
        "    values = []\n",
        "    for i in range(1000):\n",
        "        target_subsample = target.reset_index(drop=True).sample(n=500, replace=True, random_state=state)\n",
        "        probs_subsample = predictions[target_subsample.index]\n",
        "        rev = revenue(target_subsample, probs_subsample)\n",
        "        values.append(rev)\n",
        "\n",
        "    values = pd.Series(values)\n",
        "    lower = values.quantile(MAX_RISK)\n",
        "    confidence_interval = st.t.interval(0.95, len(values)-1, values.mean(), values.sem())\n",
        "    mean = values.mean()\n",
        "\n",
        "    print(\"Средняя выручка:\", mean)\n",
        "    print(\"2.5%-квантиль:\", lower)\n",
        "    print(\"Доверительный интервал:\", confidence_interval)\n",
        "    print(\"Риски убытка:\", (values < 0).mean())"
      ]
    },
    {
      "cell_type": "code",
      "execution_count": null,
      "metadata": {
        "id": "7jrpmsltT85m",
        "outputId": "be011979-7cc5-4f7a-cd5e-9375f349efee"
      },
      "outputs": [
        {
          "name": "stdout",
          "output_type": "stream",
          "text": [
            "Средняя выручка: 0.41479958161807007\n",
            "2.5%-квантиль: -0.08099655547090868\n",
            "Доверительный интервал: (0.39865380846626214, 0.430945354769878)\n",
            "Риски убытка: 0.048\n"
          ]
        }
      ],
      "source": [
        "bootstrap(target_1, predicted_1)"
      ]
    },
    {
      "cell_type": "code",
      "execution_count": null,
      "metadata": {
        "id": "17zxdyEKT85m",
        "outputId": "c4d6e4dc-b414-40fa-d85b-1c6a0c5524a2"
      },
      "outputs": [
        {
          "name": "stdout",
          "output_type": "stream",
          "text": [
            "Средняя выручка: 0.42736389192366653\n",
            "2.5%-квантиль: 0.007483545047568657\n",
            "Доверительный интервал: (0.4143367855164308, 0.4403909983309023)\n",
            "Риски убытка: 0.022\n"
          ]
        }
      ],
      "source": [
        "bootstrap(target_2, predicted_2)"
      ]
    },
    {
      "cell_type": "code",
      "execution_count": null,
      "metadata": {
        "id": "4gG8bvw4T85m",
        "outputId": "90f97903-09bd-4aeb-bf25-2bd655d1c881"
      },
      "outputs": [
        {
          "name": "stdout",
          "output_type": "stream",
          "text": [
            "Средняя выручка: 0.33012128371491745\n",
            "2.5%-квантиль: -0.21131634368174967\n",
            "Доверительный интервал: (0.3130545585390611, 0.3471880088907738)\n",
            "Риски убытка: 0.122\n"
          ]
        }
      ],
      "source": [
        "bootstrap(target_3, predicted_3)"
      ]
    },
    {
      "cell_type": "markdown",
      "metadata": {
        "id": "k9rMzmDNT85m"
      },
      "source": [
        "Из всех трех регионов по уровню риска проходит только регион №2. К тому же, добыча здесь принесёт наибольшую прибыль.\n",
        "\n",
        "Вывод: Для реализации проекта больше всего подходит регион 2. Бурение скважин здесь связанно с наименьшими рисками и принесет бОльшую выручку."
      ]
    }
  ],
  "metadata": {
    "ExecuteTimeLog": [
      {
        "duration": 1871,
        "start_time": "2023-03-14T16:04:09.040Z"
      },
      {
        "duration": 1758,
        "start_time": "2023-03-14T16:04:10.913Z"
      },
      {
        "duration": 412,
        "start_time": "2023-03-14T16:04:13.491Z"
      },
      {
        "duration": 351,
        "start_time": "2023-03-14T16:04:42.104Z"
      },
      {
        "duration": 317,
        "start_time": "2023-03-14T16:04:58.340Z"
      },
      {
        "duration": 330,
        "start_time": "2023-03-14T16:05:06.348Z"
      },
      {
        "duration": 172,
        "start_time": "2023-03-14T16:05:42.637Z"
      },
      {
        "duration": 216,
        "start_time": "2023-03-14T16:07:39.247Z"
      },
      {
        "duration": 27,
        "start_time": "2023-03-14T16:07:45.214Z"
      },
      {
        "duration": 72,
        "start_time": "2023-03-14T16:07:54.136Z"
      },
      {
        "duration": 3,
        "start_time": "2023-03-14T16:08:10.491Z"
      },
      {
        "duration": 518,
        "start_time": "2023-03-14T16:08:31.210Z"
      },
      {
        "duration": 2,
        "start_time": "2023-03-14T16:09:24.901Z"
      },
      {
        "duration": 3,
        "start_time": "2023-03-14T16:09:35.004Z"
      },
      {
        "duration": 222,
        "start_time": "2023-03-14T16:09:59.209Z"
      },
      {
        "duration": 115,
        "start_time": "2023-03-14T16:09:59.438Z"
      },
      {
        "duration": 171,
        "start_time": "2023-03-14T16:09:59.555Z"
      },
      {
        "duration": 3,
        "start_time": "2023-03-14T16:10:18.642Z"
      },
      {
        "duration": 5,
        "start_time": "2023-03-14T16:10:25.562Z"
      },
      {
        "duration": 5,
        "start_time": "2023-03-14T16:10:33.707Z"
      },
      {
        "duration": 5,
        "start_time": "2023-03-14T16:10:40.771Z"
      },
      {
        "duration": 2,
        "start_time": "2023-03-14T16:11:18.716Z"
      },
      {
        "duration": 4,
        "start_time": "2023-03-14T16:11:35.296Z"
      },
      {
        "duration": 6,
        "start_time": "2023-03-14T16:11:42.620Z"
      },
      {
        "duration": 4,
        "start_time": "2023-03-14T16:12:02.461Z"
      },
      {
        "duration": 10,
        "start_time": "2023-03-14T16:12:06.694Z"
      },
      {
        "duration": 10,
        "start_time": "2023-03-14T16:12:13.653Z"
      },
      {
        "duration": 14,
        "start_time": "2023-03-14T16:12:19.343Z"
      },
      {
        "duration": 3,
        "start_time": "2023-03-14T16:12:54.566Z"
      },
      {
        "duration": 5,
        "start_time": "2023-03-14T16:12:59.624Z"
      },
      {
        "duration": 1376,
        "start_time": "2023-03-14T16:13:05.712Z"
      },
      {
        "duration": 1341,
        "start_time": "2023-03-14T16:13:26.135Z"
      },
      {
        "duration": 1337,
        "start_time": "2023-03-14T16:13:27.478Z"
      },
      {
        "duration": 2529,
        "start_time": "2023-03-15T12:06:44.938Z"
      },
      {
        "duration": 1622,
        "start_time": "2023-03-15T12:06:47.469Z"
      },
      {
        "duration": 396,
        "start_time": "2023-03-15T12:06:49.093Z"
      },
      {
        "duration": 378,
        "start_time": "2023-03-15T12:06:49.492Z"
      },
      {
        "duration": 400,
        "start_time": "2023-03-15T12:06:49.872Z"
      },
      {
        "duration": 205,
        "start_time": "2023-03-15T12:06:50.274Z"
      },
      {
        "duration": 276,
        "start_time": "2023-03-15T12:06:50.482Z"
      },
      {
        "duration": 17,
        "start_time": "2023-03-15T12:06:50.760Z"
      },
      {
        "duration": 3,
        "start_time": "2023-03-15T12:06:50.779Z"
      },
      {
        "duration": 475,
        "start_time": "2023-03-15T12:06:50.785Z"
      },
      {
        "duration": 3,
        "start_time": "2023-03-15T12:06:51.261Z"
      },
      {
        "duration": 4,
        "start_time": "2023-03-15T12:06:51.266Z"
      },
      {
        "duration": 72,
        "start_time": "2023-03-15T12:06:51.272Z"
      },
      {
        "duration": 110,
        "start_time": "2023-03-15T12:06:51.348Z"
      },
      {
        "duration": 123,
        "start_time": "2023-03-15T12:06:51.527Z"
      },
      {
        "duration": 74,
        "start_time": "2023-03-15T12:06:51.651Z"
      },
      {
        "duration": 103,
        "start_time": "2023-03-15T12:06:51.730Z"
      },
      {
        "duration": 26,
        "start_time": "2023-03-15T12:06:51.839Z"
      },
      {
        "duration": 9,
        "start_time": "2023-03-15T12:06:51.867Z"
      },
      {
        "duration": 17,
        "start_time": "2023-03-15T12:06:51.878Z"
      },
      {
        "duration": 8,
        "start_time": "2023-03-15T12:06:51.897Z"
      },
      {
        "duration": 8,
        "start_time": "2023-03-15T12:06:51.907Z"
      },
      {
        "duration": 5,
        "start_time": "2023-03-15T12:06:51.917Z"
      },
      {
        "duration": 25,
        "start_time": "2023-03-15T12:06:51.924Z"
      },
      {
        "duration": 11,
        "start_time": "2023-03-15T12:06:51.950Z"
      },
      {
        "duration": 10,
        "start_time": "2023-03-15T12:06:51.962Z"
      },
      {
        "duration": 16,
        "start_time": "2023-03-15T12:06:51.973Z"
      },
      {
        "duration": 6,
        "start_time": "2023-03-15T12:06:51.992Z"
      },
      {
        "duration": 1500,
        "start_time": "2023-03-15T12:06:52.000Z"
      },
      {
        "duration": 1462,
        "start_time": "2023-03-15T12:06:53.502Z"
      },
      {
        "duration": 1440,
        "start_time": "2023-03-15T12:06:54.965Z"
      },
      {
        "duration": 1659,
        "start_time": "2024-05-09T12:22:45.976Z"
      },
      {
        "duration": 1649,
        "start_time": "2024-05-09T12:22:47.638Z"
      },
      {
        "duration": 433,
        "start_time": "2024-05-09T12:22:49.289Z"
      },
      {
        "duration": 337,
        "start_time": "2024-05-09T12:22:49.724Z"
      },
      {
        "duration": 325,
        "start_time": "2024-05-09T12:22:50.063Z"
      },
      {
        "duration": 172,
        "start_time": "2024-05-09T12:22:50.390Z"
      },
      {
        "duration": 188,
        "start_time": "2024-05-09T12:22:50.563Z"
      },
      {
        "duration": 18,
        "start_time": "2024-05-09T12:22:50.759Z"
      },
      {
        "duration": 35,
        "start_time": "2024-05-09T12:22:50.778Z"
      },
      {
        "duration": 410,
        "start_time": "2024-05-09T12:22:50.814Z"
      },
      {
        "duration": 3,
        "start_time": "2024-05-09T12:22:51.227Z"
      },
      {
        "duration": 13,
        "start_time": "2024-05-09T12:22:51.231Z"
      },
      {
        "duration": 214,
        "start_time": "2024-05-09T12:22:51.246Z"
      },
      {
        "duration": 108,
        "start_time": "2024-05-09T12:22:51.463Z"
      },
      {
        "duration": 197,
        "start_time": "2024-05-09T12:22:51.574Z"
      },
      {
        "duration": 86,
        "start_time": "2024-05-09T12:22:51.777Z"
      },
      {
        "duration": 100,
        "start_time": "2024-05-09T12:22:51.870Z"
      },
      {
        "duration": 16,
        "start_time": "2024-05-09T12:22:51.971Z"
      },
      {
        "duration": 10,
        "start_time": "2024-05-09T12:22:51.988Z"
      },
      {
        "duration": 18,
        "start_time": "2024-05-09T12:22:52.000Z"
      },
      {
        "duration": 19,
        "start_time": "2024-05-09T12:22:52.020Z"
      },
      {
        "duration": 8,
        "start_time": "2024-05-09T12:22:52.041Z"
      },
      {
        "duration": 6,
        "start_time": "2024-05-09T12:22:52.052Z"
      },
      {
        "duration": 14,
        "start_time": "2024-05-09T12:22:52.061Z"
      },
      {
        "duration": 25,
        "start_time": "2024-05-09T12:22:52.076Z"
      },
      {
        "duration": 10,
        "start_time": "2024-05-09T12:22:52.103Z"
      },
      {
        "duration": 3,
        "start_time": "2024-05-09T12:22:52.115Z"
      },
      {
        "duration": 19,
        "start_time": "2024-05-09T12:22:52.120Z"
      },
      {
        "duration": 1351,
        "start_time": "2024-05-09T12:22:52.141Z"
      },
      {
        "duration": 1355,
        "start_time": "2024-05-09T12:22:53.494Z"
      },
      {
        "duration": 1352,
        "start_time": "2024-05-09T12:22:54.850Z"
      }
    ],
    "kernelspec": {
      "display_name": "Python 3 (ipykernel)",
      "language": "python",
      "name": "python3"
    },
    "language_info": {
      "codemirror_mode": {
        "name": "ipython",
        "version": 3
      },
      "file_extension": ".py",
      "mimetype": "text/x-python",
      "name": "python",
      "nbconvert_exporter": "python",
      "pygments_lexer": "ipython3",
      "version": "3.9.5"
    },
    "toc": {
      "base_numbering": 1,
      "nav_menu": {},
      "number_sections": true,
      "sideBar": true,
      "skip_h1_title": true,
      "title_cell": "Table of Contents",
      "title_sidebar": "Contents",
      "toc_cell": false,
      "toc_position": {},
      "toc_section_display": true,
      "toc_window_display": true
    },
    "colab": {
      "provenance": [],
      "include_colab_link": true
    }
  },
  "nbformat": 4,
  "nbformat_minor": 0
}